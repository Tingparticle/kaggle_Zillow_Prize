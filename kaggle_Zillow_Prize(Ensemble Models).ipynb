{
 "cells": [
  {
   "cell_type": "code",
   "execution_count": 1,
   "metadata": {
    "collapsed": true
   },
   "outputs": [],
   "source": [
    "import pandas as pd\n",
    "import os\n",
    "\n",
    "\n",
    "\n",
    "os.getcwd()\n",
    "os.chdir('/Users/ting/Desktop/kaggle_Zillow_Prize/')"
   ]
  },
  {
   "cell_type": "code",
   "execution_count": null,
   "metadata": {
    "collapsed": true
   },
   "outputs": [],
   "source": [
    "lgb_pre201610 = pd.DataFrame('lgb_pre201610.csv')\n",
    "lgb_pre201611 = pd.DataFrame('lgb_pre201611.csv')\n",
    "lgb_pre201612 = pd.DataFrame('lgb_pre201612.csv')\n",
    "lgb_pre201710 = pd.DataFrame('lgb_pre201710.csv')\n",
    "lgb_pre201711 = pd.DataFrame('lgb_pre201711.csv')\n",
    "lgb_pre201712 = pd.DataFrame('lgb_pre201712.csv')\n",
    "#['2016-10-01','2016-11-01','2016-12-01','2017-10-01','2017-11-01','2017-12-01']\n",
    "lgb_pre_res = pd.merge(lgb_pre201610, lgb_pre201611, lgb_pre201612, lgb_pre201710, lgb_pre201711, lgb_pre201712, how='left', on='ParcelId')\n",
    "\n",
    "lgb_pre = pd.DataFrame('lgb_pre.csv')\n",
    "xgb_pre = pd.DataFrame('xgb_pre.csv')"
   ]
  },
  {
   "cell_type": "code",
   "execution_count": null,
   "metadata": {
    "collapsed": true
   },
   "outputs": [],
   "source": [
    "res = (1/3)*lgb_pre_res + (1/3)*lgb_pre + (1/3)*xgb_pre"
   ]
  },
  {
   "cell_type": "code",
   "execution_count": null,
   "metadata": {
    "collapsed": true
   },
   "outputs": [],
   "source": [
    "pd.DataFrame(res).to_csv('res.csv')"
   ]
  },
  {
   "cell_type": "code",
   "execution_count": null,
   "metadata": {
    "collapsed": true
   },
   "outputs": [],
   "source": []
  }
 ],
 "metadata": {
  "kernelspec": {
   "display_name": "Python 3",
   "language": "python",
   "name": "python3"
  },
  "language_info": {
   "codemirror_mode": {
    "name": "ipython",
    "version": 3
   },
   "file_extension": ".py",
   "mimetype": "text/x-python",
   "name": "python",
   "nbconvert_exporter": "python",
   "pygments_lexer": "ipython3",
   "version": "3.6.1"
  }
 },
 "nbformat": 4,
 "nbformat_minor": 2
}
